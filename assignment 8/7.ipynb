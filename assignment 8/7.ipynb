{
 "cells": [
  {
   "cell_type": "code",
   "execution_count": 1,
   "id": "4db18fde",
   "metadata": {},
   "outputs": [
    {
     "name": "stdout",
     "output_type": "stream",
     "text": [
      ".py hello\n"
     ]
    }
   ],
   "source": [
    "class py_solution:\n",
    "    def reverse_words(self, s):\n",
    "        return ' '.join(reversed(s.split()))\n",
    "print(py_solution().reverse_words('hello .py'))\n"
   ]
  },
  {
   "cell_type": "code",
   "execution_count": null,
   "id": "d77c7b35",
   "metadata": {},
   "outputs": [],
   "source": []
  }
 ],
 "metadata": {
  "kernelspec": {
   "display_name": "Python 3 (ipykernel)",
   "language": "python",
   "name": "python3"
  },
  "language_info": {
   "codemirror_mode": {
    "name": "ipython",
    "version": 3
   },
   "file_extension": ".py",
   "mimetype": "text/x-python",
   "name": "python",
   "nbconvert_exporter": "python",
   "pygments_lexer": "ipython3",
   "version": "3.9.13"
  }
 },
 "nbformat": 4,
 "nbformat_minor": 5
}
