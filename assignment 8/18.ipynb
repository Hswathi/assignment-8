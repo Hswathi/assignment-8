{
 "cells": [
  {
   "cell_type": "code",
   "execution_count": null,
   "id": "c74ef470",
   "metadata": {},
   "outputs": [],
   "source": [
    "def check_string(str1):\n",
    "    messg = [\n",
    "    lambda str1: any(x.isupper() for x in str1) or 'String must have 1 upper case character.',\n",
    "    lambda str1: any(x.islower() for x in str1) or 'String must have 1 lower case character.',\n",
    "    lambda str1: any(x.isdigit() for x in str1) or 'String must have 1 number.',\n",
    "    lambda str1: len(str1) >= 7                 or 'String length should be atleast 8.',]\n",
    "    result = [x for x in [i(str1) for i in messg] if x != True]\n",
    "    if not result:\n",
    "        result.append('Valid string.')\n",
    "    return result    \n",
    "s = input(\"Input the string: \")\n",
    "print(check_string(s))\n"
   ]
  },
  {
   "cell_type": "code",
   "execution_count": null,
   "id": "684d4efd",
   "metadata": {},
   "outputs": [],
   "source": []
  }
 ],
 "metadata": {
  "kernelspec": {
   "display_name": "Python 3 (ipykernel)",
   "language": "python",
   "name": "python3"
  },
  "language_info": {
   "codemirror_mode": {
    "name": "ipython",
    "version": 3
   },
   "file_extension": ".py",
   "mimetype": "text/x-python",
   "name": "python",
   "nbconvert_exporter": "python",
   "pygments_lexer": "ipython3",
   "version": "3.9.13"
  }
 },
 "nbformat": 4,
 "nbformat_minor": 5
}
